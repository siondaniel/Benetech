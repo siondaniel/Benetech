{
  "nbformat": 4,
  "nbformat_minor": 0,
  "metadata": {
    "colab": {
      "provenance": [],
      "gpuType": "T4",
      "authorship_tag": "ABX9TyOhA2S9scPbBTsfZkQNm1KV",
      "include_colab_link": true
    },
    "kernelspec": {
      "name": "python3",
      "display_name": "Python 3"
    },
    "language_info": {
      "name": "python"
    },
    "accelerator": "GPU",
    "gpuClass": "standard"
  },
  "cells": [
    {
      "cell_type": "markdown",
      "metadata": {
        "id": "view-in-github",
        "colab_type": "text"
      },
      "source": [
        "<a href=\"https://colab.research.google.com/github/siondaniel/Benetech/blob/main/Benetech.ipynb\" target=\"_parent\"><img src=\"https://colab.research.google.com/assets/colab-badge.svg\" alt=\"Open In Colab\"/></a>"
      ]
    },
    {
      "cell_type": "code",
      "execution_count": 1,
      "metadata": {
        "id": "4iZfLRxnbZIx"
      },
      "outputs": [],
      "source": [
        "import torch\n",
        "import torch.nn as nn\n",
        "import torch.nn.functional as F\n",
        "import torch.optim as optim\n",
        "from torchvision import datasets, transforms\n",
        "import matplotlib.pyplot as plt\n",
        "import numpy\n",
        "\n",
        "# function to count number of parameters\n",
        "def get_n_params(model):\n",
        "    np=0\n",
        "    for p in list(model.parameters()):\n",
        "        np += p.nelement()\n",
        "    return np"
      ]
    },
    {
      "cell_type": "code",
      "source": [
        "device = torch.device(\"cuda:0\" if torch.cuda.is_available() else \"cpu\")"
      ],
      "metadata": {
        "id": "tnCinr6ZbtHT"
      },
      "execution_count": null,
      "outputs": []
    },
    {
      "cell_type": "code",
      "source": [
        "import json\n",
        "from PIL import Image\n",
        "import torch.utils.data as data\n",
        "\n",
        "class CustomDataset(data.Dataset):\n",
        "    def __init__(self, image_folder, annotation_folder, transform=None):\n",
        "        self.image_folder = image_folder\n",
        "        self.annotation_folder = annotation_folder\n",
        "        self.transform = transform\n",
        "        self.img_names = sorted(os.listdir(self.image_folder))\n",
        "        self.anno_names = sorted(os.listdir(self.annotation_folder))\n",
        "\n",
        "    def __getitem__(self, index):\n",
        "        img_name = self.img_names[index]\n",
        "        anno_name = self.anno_names[index]\n",
        "\n",
        "        # Load the image\n",
        "        img_path = os.path.join(self.image_folder, img_name)\n",
        "        img = Image.open(img_path).convert('RGB')\n",
        "\n",
        "        # Load the annotation\n",
        "        anno_path = os.path.join(self.annotation_folder, anno_name)\n",
        "        with open(anno_path, 'r') as f:\n",
        "            anno = json.load(f)\n",
        "\n",
        "        # Preprocess the data\n",
        "        if self.transform:\n",
        "            img = self.transform(img)\n",
        "\n",
        "        return img, anno\n",
        "\n",
        "    def __len__(self):\n",
        "        return len(self.img_names)"
      ],
      "metadata": {
        "id": "lYeR__qPg5Xl"
      },
      "execution_count": 2,
      "outputs": []
    },
    {
      "cell_type": "code",
      "source": [
        "!git clone https://github.com/siondaniel/Benetech.git"
      ],
      "metadata": {
        "colab": {
          "base_uri": "https://localhost:8080/"
        },
        "id": "XNxF_eIzTe0K",
        "outputId": "fc11ba72-0a61-4eae-da69-35497747d391"
      },
      "execution_count": 3,
      "outputs": [
        {
          "output_type": "stream",
          "name": "stdout",
          "text": [
            "fatal: destination path 'Benetech' already exists and is not an empty directory.\n"
          ]
        }
      ]
    },
    {
      "cell_type": "code",
      "source": [
        "import os\n",
        "\n",
        "# Define paths to your image and json files\n",
        "images_dir = \"Benetech/train/images\"\n",
        "json_dir = \"Benetech/train/annotations\"\n",
        "\n",
        "# Define the list that will hold your data\n",
        "data = []\n",
        "\n",
        "# Loop through all the files in the images directory\n",
        "for filename in os.listdir(images_dir):\n",
        "    if filename.endswith(\".jpg\"):\n",
        "        # Load the image using PIL\n",
        "        img = Image.open(os.path.join(images_dir, filename))\n",
        "        \n",
        "        # Load the corresponding json file\n",
        "        json_filename = filename.split(\".\")[0] + \".json\"\n",
        "        with open(os.path.join(json_dir, json_filename), \"r\") as f:\n",
        "            json_data = json.load(f)\n",
        "        \n",
        "        # Append the image and json data to your list\n",
        "        data.append({\n",
        "            \"image\": numpy.array(img),\n",
        "            \"json\": json_data\n",
        "        })\n",
        "\n",
        "# Print the length of your data\n",
        "print(\"Number of data samples:\", len(data))"
      ],
      "metadata": {
        "id": "CRDWrfkzbjty"
      },
      "execution_count": null,
      "outputs": []
    }
  ]
}